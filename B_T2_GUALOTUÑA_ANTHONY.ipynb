{
  "nbformat": 4,
  "nbformat_minor": 0,
  "metadata": {
    "colab": {
      "provenance": [],
      "authorship_tag": "ABX9TyOAHgeMIZd4PFJ+0M1LWetw",
      "include_colab_link": true
    },
    "kernelspec": {
      "name": "python3",
      "display_name": "Python 3"
    },
    "language_info": {
      "name": "python"
    }
  },
  "cells": [
    {
      "cell_type": "markdown",
      "metadata": {
        "id": "view-in-github",
        "colab_type": "text"
      },
      "source": [
        "<a href=\"https://colab.research.google.com/github/AJOrtegao/hola-mundo/blob/main/B_T2_GUALOTU%C3%91A_ANTHONY.ipynb\" target=\"_parent\"><img src=\"https://colab.research.google.com/assets/colab-badge.svg\" alt=\"Open In Colab\"/></a>"
      ]
    },
    {
      "cell_type": "markdown",
      "source": [
        "Hola mundo\n"
      ],
      "metadata": {
        "id": "KLfpQX6qlwXT"
      }
    },
    {
      "cell_type": "code",
      "source": [
        "#Imprime \"Hola mundo\"\n",
        "print(\"Hola mundo\")"
      ],
      "metadata": {
        "colab": {
          "base_uri": "https://localhost:8080/"
        },
        "id": "uwPOXfthl1gs",
        "outputId": "e29c13a3-dc55-4d24-82ac-58eb9a2fa36c"
      },
      "execution_count": null,
      "outputs": [
        {
          "output_type": "stream",
          "name": "stdout",
          "text": [
            "Hola mundo\n"
          ]
        }
      ]
    },
    {
      "cell_type": "markdown",
      "source": [
        "Suma de dos numeros"
      ],
      "metadata": {
        "id": "HLnbnfeOl7jr"
      }
    },
    {
      "cell_type": "code",
      "source": [
        "#Este codigo me suma dos numeros ingresados por teclado\n",
        "num1=int(input(\"Ingrese un numero \"))\n",
        "num2=int(input(\"Ingrese otro numero \"))\n",
        "suma=num1+num2\n",
        "print(suma)"
      ],
      "metadata": {
        "colab": {
          "base_uri": "https://localhost:8080/"
        },
        "id": "mb8ImJHBmGr7",
        "outputId": "2b43e7cd-ae6b-4ff3-cb74-e215eb2834be"
      },
      "execution_count": null,
      "outputs": [
        {
          "output_type": "stream",
          "name": "stdout",
          "text": [
            "Ingrese un numero1\n",
            "Ingrese otro numero2\n",
            "3\n"
          ]
        }
      ]
    },
    {
      "cell_type": "markdown",
      "source": [
        "Par o impar"
      ],
      "metadata": {
        "id": "AfQBYaJlmsXF"
      }
    },
    {
      "cell_type": "code",
      "source": [
        "#Este codigo me determina si es par o impar el numero ingresado por teclado\n",
        "num=int(input(\"Ingrese un numero \"))\n",
        "if num %2==0:\n",
        "  print(\"El numero es par\")\n",
        "else:\n",
        "  print(\"El numero es impar\")"
      ],
      "metadata": {
        "colab": {
          "base_uri": "https://localhost:8080/"
        },
        "id": "RpNXmA68mxSL",
        "outputId": "eedef66e-6fbb-4d2f-fdc6-6f45447a4c80"
      },
      "execution_count": null,
      "outputs": [
        {
          "output_type": "stream",
          "name": "stdout",
          "text": [
            "Ingrese un numero2\n",
            "El numero es par\n"
          ]
        }
      ]
    },
    {
      "cell_type": "markdown",
      "source": [
        "Calculadora basica"
      ],
      "metadata": {
        "id": "0A3Z6TzQnYgD"
      }
    },
    {
      "cell_type": "code",
      "source": [
        "#Este codigo me genera un acalculadora basica imprimiendome todos los resultados como es suma, resta, multiplicación y división\n",
        "num3=int(input(\"Ingrese un numero \"))\n",
        "num4=int(input(\"Ingrese otro numero \"))\n",
        "suma1=num3+num4\n",
        "print(f\"la suma es\",suma1)\n",
        "resta=num3-num4\n",
        "print(f\"la resta es\",resta)\n",
        "multi=num3*num4\n",
        "print(f\"la multiplicación es\",multi)\n",
        "divi=num3/num4\n",
        "print(f\"la división es\",divi)"
      ],
      "metadata": {
        "colab": {
          "base_uri": "https://localhost:8080/"
        },
        "id": "93J0vMBqoKg_",
        "outputId": "7b89c8d4-ecfa-47db-d596-6fdbe5245062"
      },
      "execution_count": null,
      "outputs": [
        {
          "output_type": "stream",
          "name": "stdout",
          "text": [
            "Ingrese un numero 2\n",
            "Ingrese otro numero 2\n",
            "la suma es 4\n",
            "la resta es 0\n",
            "la multiplicación es 4\n",
            "la división es 1.0\n"
          ]
        }
      ]
    },
    {
      "cell_type": "markdown",
      "source": [
        "Numero mayor"
      ],
      "metadata": {
        "id": "30Nj7Z9lq4tH"
      }
    },
    {
      "cell_type": "code",
      "source": [
        "#Escribe un programa que calcule el área de un círculo a partir de su radio, ingresado por el usuario.radio = float(input(\"Por favor, ingresa el radio del círculo: \"))\n",
        "radio = float(input(\"Por Ingresa el radio del círculo: \"))\n",
        "area = 3.14159 * radio ** 2\n",
        "print(\"El área del círculo con radio\", radio, \"es:\", area)"
      ],
      "metadata": {
        "id": "iWPlHQbMrEk3",
        "colab": {
          "base_uri": "https://localhost:8080/"
        },
        "outputId": "6f61fe0e-9929-492b-8a4b-c113879c45c2"
      },
      "execution_count": null,
      "outputs": [
        {
          "output_type": "stream",
          "name": "stdout",
          "text": [
            "Por favor, ingresa el radio del círculo: 4\n",
            "El área del círculo con radio 4.0 es: 50.26544\n"
          ]
        }
      ]
    },
    {
      "cell_type": "code",
      "source": [
        "#Escribe un programa que pida tres números al usuario y determine cuál es el mayor.\n",
        "numero1 = float(input(\"Ingresa el primer número: \"))\n",
        "numero2 = float(input(\"Ingresa el segundo número: \"))\n",
        "numero3 = float(input(\"Ingresa el tercer número: \"))\n",
        "\n",
        "if numero1 >= numero2 and numero1 >= numero3:\n",
        "    mayor = numero1\n",
        "elif numero2 >= numero1 and numero2 >= numero3:\n",
        "    mayor = numero2\n",
        "else:\n",
        "    mayor = numero3\n",
        "\n",
        "print(\"El número mayor es:\", mayor)"
      ],
      "metadata": {
        "colab": {
          "base_uri": "https://localhost:8080/"
        },
        "id": "Gued6a0j-6gi",
        "outputId": "3411a83c-19c7-4987-decf-2af0af1af2f4"
      },
      "execution_count": null,
      "outputs": [
        {
          "output_type": "stream",
          "name": "stdout",
          "text": [
            "Por favor, ingresa el primer número: 1\n",
            "Por favor, ingresa el segundo número: 4\n",
            "Por favor, ingresa el tercer número: 5\n",
            "El número mayor es: 5.0\n"
          ]
        }
      ]
    },
    {
      "cell_type": "code",
      "source": [
        "#Escribe un programa que convierta una temperatura dada en grados Celsius a grados Fahrenheit.\n",
        "#Solicitar al usuario que ingrese la temperatura en grados Celsius\n",
        "celsius = float(input(\"Ingresa la temperatura en grados Celsius: \"))\n",
        "\n",
        "# Convertir la temperatura de Celsius a Fahrenheit\n",
        "fahrenheit = (celsius * 9/5) + 32\n",
        "\n",
        "# Mostrar la temperatura en grados Fahrenheit\n",
        "print(\"La temperatura de\", celsius, \"grados Celsius es equivalente a\", fahrenheit, \"grados Fahrenheit.\")"
      ],
      "metadata": {
        "colab": {
          "base_uri": "https://localhost:8080/"
        },
        "id": "6noCjv6o_BJ3",
        "outputId": "3489c0d1-15ed-4601-a712-49ffe2da06ed"
      },
      "execution_count": null,
      "outputs": [
        {
          "output_type": "stream",
          "name": "stdout",
          "text": [
            "Por favor, ingresa la temperatura en grados Celsius: 4\n",
            "La temperatura de 4.0 grados Celsius es equivalente a 39.2 grados Fahrenheit.\n"
          ]
        }
      ]
    },
    {
      "cell_type": "code",
      "source": [
        "#Escribe un programa que cuente hacia atrás desde 10 hasta 0.\n",
        "\n",
        "# Utilizamos un bucle for para iterar sobre los números del 10 al 0\n",
        "for i in range(10, -1, -1):\n",
        "    print(i)\n"
      ],
      "metadata": {
        "colab": {
          "base_uri": "https://localhost:8080/"
        },
        "id": "Dv3TyXnR_B3w",
        "outputId": "32d96903-0e92-4837-cd49-ef40fbcda834"
      },
      "execution_count": null,
      "outputs": [
        {
          "output_type": "stream",
          "name": "stdout",
          "text": [
            "10\n",
            "9\n",
            "8\n",
            "7\n",
            "6\n",
            "5\n",
            "4\n",
            "3\n",
            "2\n",
            "1\n",
            "0\n"
          ]
        }
      ]
    },
    {
      "cell_type": "code",
      "source": [
        "#Escribe un programa que muestre la tabla de multiplicar de un número introducido por el usuario.\n",
        "# Solicitar al usuario que ingrese un número para la tabla de multiplicar\n",
        "numero = int(input(\"Ingresa un número para ver su tabla de multiplicar: \"))\n",
        "\n",
        "# Mostrar la tabla de multiplicar del número ingresado\n",
        "print(\"Tabla de multiplicar del\", numero, \":\")\n",
        "for i in range(1, 11):\n",
        "    resultado = numero * i\n",
        "    print(numero, \"x\", i, \"=\", resultado)"
      ],
      "metadata": {
        "colab": {
          "base_uri": "https://localhost:8080/"
        },
        "id": "6mgQUlPS_EKA",
        "outputId": "ce301acd-3037-4ad6-c236-6139c6e2af15"
      },
      "execution_count": null,
      "outputs": [
        {
          "output_type": "stream",
          "name": "stdout",
          "text": [
            "Por favor, ingresa un número para ver su tabla de multiplicar: 2\n",
            "Tabla de multiplicar del 2 :\n",
            "2 x 1 = 2\n",
            "2 x 2 = 4\n",
            "2 x 3 = 6\n",
            "2 x 4 = 8\n",
            "2 x 5 = 10\n",
            "2 x 6 = 12\n",
            "2 x 7 = 14\n",
            "2 x 8 = 16\n",
            "2 x 9 = 18\n",
            "2 x 10 = 20\n"
          ]
        }
      ]
    },
    {
      "cell_type": "code",
      "source": [
        "# Solicitar al usuario que ingrese un número\n",
        "numero = int(input(\"Ingresa un número entero positivo mayor que 1: \"))\n",
        "\n",
        "# Verificar si el número es primo\n",
        "if numero > 1:\n",
        "    es_primo = True\n",
        "    # Comprobar si el número es divisible por algún número entre 2 y su mitad\n",
        "    for i in range(2, numero//2 + 1):\n",
        "        if numero % i == 0:\n",
        "            es_primo = False\n",
        "            break\n",
        "    # Mostrar el resultado\n",
        "    if es_primo:\n",
        "        print(numero, \"es un número primo.\")\n",
        "    else:\n",
        "        print(numero, \"no es un número primo.\")\n",
        "else:\n",
        "    print(\"Por favor, ingresa un número entero positivo mayor que 1.\")"
      ],
      "metadata": {
        "colab": {
          "base_uri": "https://localhost:8080/"
        },
        "id": "LGNmoPTm_IBI",
        "outputId": "7279d35d-0a1c-4a69-cc45-f61d538145cc"
      },
      "execution_count": null,
      "outputs": [
        {
          "output_type": "stream",
          "name": "stdout",
          "text": [
            "Por favor, ingresa un número entero positivo mayor que 1: 2\n",
            "2 es un número primo.\n"
          ]
        }
      ]
    },
    {
      "cell_type": "code",
      "source": [
        "#Sumar números hasta un límite: Escribe un programa que sume todos los números naturales hasta un número límite introducido por el usuario.\n",
        "limite = int(input(\"Ingresa un número entero positivo como límite: \"))\n",
        "\n",
        "# Verificar si el límite es un número entero positivo\n",
        "if limite <= 0:\n",
        "    print(\"Ingresa un número entero positivo como límite.\")\n",
        "else:\n",
        "    # Inicializar la suma\n",
        "    suma = 0\n",
        "\n",
        "    # Calcular la suma de los números naturales hasta el límite\n",
        "    for i in range(1, limite + 1):\n",
        "        suma += i\n",
        "\n",
        "    # Mostrar el resultado\n",
        "    print(\"La suma de los números naturales hasta\", limite, \"es:\", suma)"
      ],
      "metadata": {
        "colab": {
          "base_uri": "https://localhost:8080/"
        },
        "id": "8wpt9iC-_LWn",
        "outputId": "6f4a4fef-e4eb-49c7-db5e-aa22a2a896d5"
      },
      "execution_count": null,
      "outputs": [
        {
          "output_type": "stream",
          "name": "stdout",
          "text": [
            "Ingresa un número entero positivo como límite: 1\n",
            "La suma de los números naturales hasta 1 es: 1\n"
          ]
        }
      ]
    },
    {
      "cell_type": "code",
      "source": [
        "#Invertir una cadena: Escribe un programa que invierta una cadena introducida por el usuario.\n",
        "# Solicitar al usuario que ingrese una cadena\n",
        "cadena = input(\"Ingresa una cadena: \")\n",
        "\n",
        "# Invertir la cadena utilizando slicing\n",
        "cadena_invertida = cadena[::-1]\n",
        "\n",
        "# Mostrar la cadena invertida\n",
        "print(\"La cadena invertida es:\", cadena_invertida)"
      ],
      "metadata": {
        "colab": {
          "base_uri": "https://localhost:8080/"
        },
        "id": "O4KiL63j_MEX",
        "outputId": "d444db10-e49d-4d15-92df-205f1eb33c86"
      },
      "execution_count": null,
      "outputs": [
        {
          "output_type": "stream",
          "name": "stdout",
          "text": [
            "Ingresa una cadena: 1\n",
            "La cadena invertida es: 1\n"
          ]
        }
      ]
    },
    {
      "cell_type": "code",
      "source": [
        "# Escribe un programa que cuente el número de vocales en una cadena introducida por el usuario.\n",
        "# Solicitar al usuario que ingrese una cadena\n",
        "cadena = input(\"Ingresa una cadena: \")\n",
        "\n",
        "# Inicializar un contador para las vocales\n",
        "contador_vocales = 0\n",
        "\n",
        "# Definir las vocales en minúsculas y en mayúsculas\n",
        "vocales = \"aeiouAEIOU\"\n",
        "\n",
        "# Contar el número de vocales en la cadena\n",
        "for caracter in cadena:\n",
        "    if caracter in vocales:\n",
        "        contador_vocales += 1\n",
        "\n",
        "# Mostrar el resultado\n",
        "print(\"El número de vocales en la cadena es:\", contador_vocales)"
      ],
      "metadata": {
        "colab": {
          "base_uri": "https://localhost:8080/"
        },
        "id": "apBBi_9V_NtP",
        "outputId": "e4f5caf0-54fc-43fa-8f6e-38a3a27ac68b"
      },
      "execution_count": null,
      "outputs": [
        {
          "output_type": "stream",
          "name": "stdout",
          "text": [
            "Ingresa una cadena: QAWEDFHYQ\n",
            "El número de vocales en la cadena es: 2\n"
          ]
        }
      ]
    },
    {
      "cell_type": "code",
      "source": [
        "#Escribe un programa que determine si una cadena introducida por el usuario es un palíndromo.\n",
        "# Solicitar al usuario que ingrese una cadena\n",
        "cadena = input(\"Ingresa una cadena: \")\n",
        "\n",
        "# Eliminar los espacios en blanco y convertir la cadena a minúsculas\n",
        "cadena = cadena.replace(\" \", \"\").lower()\n",
        "\n",
        "# Verificar si la cadena es un palíndromo\n",
        "if cadena == cadena[::-1]:\n",
        "    print(\"La cadena es un palíndromo.\")\n",
        "else:\n",
        "    print(\"La cadena no es un palíndromo.\")"
      ],
      "metadata": {
        "colab": {
          "base_uri": "https://localhost:8080/"
        },
        "id": "ROH44xHL_QEM",
        "outputId": "7dad28ea-a9ba-4d58-eedb-402064fc04c3"
      },
      "execution_count": null,
      "outputs": [
        {
          "output_type": "stream",
          "name": "stdout",
          "text": [
            "Ingresa una cadena: AWEHFÑOQ2\n",
            "La cadena no es un palíndromo.\n"
          ]
        }
      ]
    },
    {
      "cell_type": "code",
      "source": [
        "#Escribe un programa que calcule el factorial de un número introducido por el usuario.\n",
        "# Solicitar al usuario que ingrese un número entero positivo\n",
        "numero = int(input(\"Ingresa un número entero positivo: \"))\n",
        "\n",
        "# Verificar si el número es positivo\n",
        "if numero < 0:\n",
        "    print(\"Ingresa un número entero positivo.\")\n",
        "else:\n",
        "    factorial = 1\n",
        "    # Calcular el factorial del número\n",
        "    for i in range(1, numero + 1):\n",
        "        factorial *= i\n",
        "    # Mostrar el factorial\n",
        "    print(\"El factorial de\", numero, \"es:\", factorial)"
      ],
      "metadata": {
        "colab": {
          "base_uri": "https://localhost:8080/"
        },
        "id": "PEPHIXJN_TmU",
        "outputId": "5bcea1a7-e838-4cf5-c15b-9245a80e36e1"
      },
      "execution_count": null,
      "outputs": [
        {
          "output_type": "stream",
          "name": "stdout",
          "text": [
            "Ingresa un número entero positivo: 5\n",
            "El factorial de 5 es: 120\n"
          ]
        }
      ]
    },
    {
      "cell_type": "code",
      "source": [
        "#Escribe un programa que genere y muestre 5 números aleatorios entre 1 y 100.\n",
        "print(\"5 números pseudoaleatorios entre 1 y 100:\")\n",
        "for i in range(1, 6):\n",
        "    numero = ((i * 17) % 100) + 1\n",
        "    print(numero)\n"
      ],
      "metadata": {
        "colab": {
          "base_uri": "https://localhost:8080/"
        },
        "id": "KJtSXLAu_Vf8",
        "outputId": "7ad5baa0-d815-4422-fb8f-21ebe5c41ef0"
      },
      "execution_count": null,
      "outputs": [
        {
          "output_type": "stream",
          "name": "stdout",
          "text": [
            "5 números pseudoaleatorios entre 1 y 100:\n",
            "18\n",
            "35\n",
            "52\n",
            "69\n",
            "86\n"
          ]
        }
      ]
    },
    {
      "cell_type": "code",
      "source": [
        "#Escribe un programa que calcule el índice de masa corporal (IMC) a partir del peso y la altura introducidos por el usuario.\n",
        "# Pedir al usuario que ingrese su peso en kilogramos y su altura en metros\n",
        "peso = float(input(\"Ingrese su peso en kilogramos: \"))\n",
        "altura = float(input(\"Ingrese su altura en metros: \"))\n",
        "\n",
        "# Calcular el índice de masa corporal (IMC)\n",
        "imc = peso / (altura ** 2)\n",
        "\n",
        "# Mostrar el resultado al usuario\n",
        "print(\"Su índice de masa corporal (IMC) es:\", imc)"
      ],
      "metadata": {
        "colab": {
          "base_uri": "https://localhost:8080/"
        },
        "id": "C9FnIYJd_XEk",
        "outputId": "c8be9dc7-b137-44de-dec6-ff68183d4699"
      },
      "execution_count": null,
      "outputs": [
        {
          "output_type": "stream",
          "name": "stdout",
          "text": [
            "Ingrese su peso en kilogramos: 45\n",
            "Ingrese su altura en metros: 1.5\n",
            "Su índice de masa corporal (IMC) es: 20.0\n"
          ]
        }
      ]
    },
    {
      "cell_type": "markdown",
      "source": [],
      "metadata": {
        "id": "iQTPay7qpW82"
      }
    }
  ]
}