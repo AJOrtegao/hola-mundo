{
  "nbformat": 4,
  "nbformat_minor": 0,
  "metadata": {
    "colab": {
      "provenance": [],
      "authorship_tag": "ABX9TyON1ZSBYtv65dxpckRB3ohg",
      "include_colab_link": true
    },
    "kernelspec": {
      "name": "python3",
      "display_name": "Python 3"
    },
    "language_info": {
      "name": "python"
    }
  },
  "cells": [
    {
      "cell_type": "markdown",
      "metadata": {
        "id": "view-in-github",
        "colab_type": "text"
      },
      "source": [
        "<a href=\"https://colab.research.google.com/github/AJOrtegao/hola-mundo/blob/main/B_T2_Gualotu%C3%B1aAnthony.ipynb\" target=\"_parent\"><img src=\"https://colab.research.google.com/assets/colab-badge.svg\" alt=\"Open In Colab\"/></a>"
      ]
    },
    {
      "cell_type": "markdown",
      "source": [
        "Hola mundo\n"
      ],
      "metadata": {
        "id": "KLfpQX6qlwXT"
      }
    },
    {
      "cell_type": "code",
      "source": [
        "#Imprime \"Hola mundo\"\n",
        "print(\"Hola mundo\")"
      ],
      "metadata": {
        "colab": {
          "base_uri": "https://localhost:8080/"
        },
        "id": "uwPOXfthl1gs",
        "outputId": "e29c13a3-dc55-4d24-82ac-58eb9a2fa36c"
      },
      "execution_count": null,
      "outputs": [
        {
          "output_type": "stream",
          "name": "stdout",
          "text": [
            "Hola mundo\n"
          ]
        }
      ]
    },
    {
      "cell_type": "markdown",
      "source": [
        "Suma de dos numeros"
      ],
      "metadata": {
        "id": "HLnbnfeOl7jr"
      }
    },
    {
      "cell_type": "code",
      "source": [
        "#Este codigo me suma dos numeros ingresados por teclado\n",
        "num1=int(input(\"Ingrese un numero \"))\n",
        "num2=int(input(\"Ingrese otro numero \"))\n",
        "suma=num1+num2\n",
        "print(suma)"
      ],
      "metadata": {
        "colab": {
          "base_uri": "https://localhost:8080/"
        },
        "id": "mb8ImJHBmGr7",
        "outputId": "2b43e7cd-ae6b-4ff3-cb74-e215eb2834be"
      },
      "execution_count": null,
      "outputs": [
        {
          "output_type": "stream",
          "name": "stdout",
          "text": [
            "Ingrese un numero1\n",
            "Ingrese otro numero2\n",
            "3\n"
          ]
        }
      ]
    },
    {
      "cell_type": "markdown",
      "source": [
        "Par o impar"
      ],
      "metadata": {
        "id": "AfQBYaJlmsXF"
      }
    },
    {
      "cell_type": "code",
      "source": [
        "#Este codigo me determina si es par o impar el numero ingresado por teclado\n",
        "num=int(input(\"Ingrese un numero \"))\n",
        "if num %2==0:\n",
        "  print(\"El numero es par\")\n",
        "else:\n",
        "  print(\"El numero es impar\")"
      ],
      "metadata": {
        "colab": {
          "base_uri": "https://localhost:8080/"
        },
        "id": "RpNXmA68mxSL",
        "outputId": "eedef66e-6fbb-4d2f-fdc6-6f45447a4c80"
      },
      "execution_count": null,
      "outputs": [
        {
          "output_type": "stream",
          "name": "stdout",
          "text": [
            "Ingrese un numero2\n",
            "El numero es par\n"
          ]
        }
      ]
    },
    {
      "cell_type": "markdown",
      "source": [
        "Calculadora basica"
      ],
      "metadata": {
        "id": "0A3Z6TzQnYgD"
      }
    },
    {
      "cell_type": "code",
      "source": [
        "#Este codigo me genera un acalculadora basica imprimiendome todos los resultados como es suma, resta, multiplicación y división\n",
        "num3=int(input(\"Ingrese un numero \"))\n",
        "num4=int(input(\"Ingrese otro numero \"))\n",
        "suma1=num3+num4\n",
        "print(f\"la suma es\",suma1)\n",
        "resta=num3-num4\n",
        "print(f\"la resta es\",resta)\n",
        "multi=num3*num4\n",
        "print(f\"la multiplicación es\",multi)\n",
        "divi=num3/num4\n",
        "print(f\"la división es\",divi)"
      ],
      "metadata": {
        "colab": {
          "base_uri": "https://localhost:8080/"
        },
        "id": "93J0vMBqoKg_",
        "outputId": "7b89c8d4-ecfa-47db-d596-6fdbe5245062"
      },
      "execution_count": null,
      "outputs": [
        {
          "output_type": "stream",
          "name": "stdout",
          "text": [
            "Ingrese un numero 2\n",
            "Ingrese otro numero 2\n",
            "la suma es 4\n",
            "la resta es 0\n",
            "la multiplicación es 4\n",
            "la división es 1.0\n"
          ]
        }
      ]
    },
    {
      "cell_type": "markdown",
      "source": [
        "Numero mayor"
      ],
      "metadata": {
        "id": "30Nj7Z9lq4tH"
      }
    },
    {
      "cell_type": "code",
      "source": [
        "print(Ingrese )"
      ],
      "metadata": {
        "id": "iWPlHQbMrEk3"
      },
      "execution_count": null,
      "outputs": []
    },
    {
      "cell_type": "markdown",
      "source": [],
      "metadata": {
        "id": "iQTPay7qpW82"
      }
    }
  ]
}